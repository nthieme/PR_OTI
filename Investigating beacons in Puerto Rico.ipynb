{
 "cells": [
  {
   "cell_type": "markdown",
   "metadata": {},
   "source": [
    "## There are fewer \"beacons\" in Puerto Rico than there used to be "
   ]
  },
  {
   "cell_type": "markdown",
   "metadata": {},
   "source": [
    "I've found something in the Puerto Rico M-lab data that might be interesting, but is definitely confusing. There's been a steady decrease in the number of \"beacons\" we see perform repeated tests since 2009, and June 2017 the last of \"beacons\" basically disappeared. I have beacons in quotes because what I'm looking at isn't exactly beacons. I'll explain this more below.\n",
    "\n",
    "There are a number of libraries and user-defined functions that need to be loaded before the analysis can be run. They're in the two labeled cells just below."
   ]
  },
  {
   "cell_type": "markdown",
   "metadata": {},
   "source": [
    "### Libraries "
   ]
  },
  {
   "cell_type": "code",
   "execution_count": 6,
   "metadata": {},
   "outputs": [],
   "source": [
    "require(bigrquery);\n",
    "require(zipcode);\n",
    "require(tidyverse);\n",
    "require(glue);\n",
    "require(downloader);\n",
    "require(ggplot2);\n",
    "require (rgdal);\n",
    "require (rgeos);\n",
    "require(maptools);\n",
    "require(viridis);\n",
    "require(lubridate);\n",
    "require(RColorBrewer);\n",
    "require(reshape2);\n",
    "require(ggridges);"
   ]
  },
  {
   "cell_type": "markdown",
   "metadata": {},
   "source": [
    "### Custom functions"
   ]
  },
  {
   "cell_type": "code",
   "execution_count": 4,
   "metadata": {},
   "outputs": [],
   "source": [
    "theme_map <- function(...) {\n",
    "  theme_minimal() +\n",
    "    theme(\n",
    "      text = element_text(family = \"Ubuntu Regular\", color = \"#22211d\"),\n",
    "      axis.line = element_blank(),\n",
    "      axis.text.x = element_blank(),\n",
    "      axis.text.y = element_blank(),\n",
    "      axis.ticks = element_blank(),\n",
    "      axis.title.x = element_blank(),\n",
    "      axis.title.y = element_blank(),\n",
    "      # panel.grid.minor = element_line(color = \"#ebebe5\", size = 0.2),\n",
    "      panel.grid.major = element_line(color = \"#ebebe5\", size = 0.2),\n",
    "      panel.grid.minor = element_blank(),\n",
    "      plot.background = element_rect(fill = \"#f5f5f2\", color = NA), \n",
    "      panel.background = element_rect(fill = \"#f5f5f2\", color = NA), \n",
    "      legend.background = element_rect(fill = \"#f5f5f2\", color = NA),\n",
    "      panel.border = element_blank(),\n",
    "      ...\n",
    "    )\n",
    "}\n",
    "theme_scatter <- function(...) {\n",
    "  theme_minimal() +\n",
    "    theme(\n",
    "      text = element_text(family = \"Ubuntu Regular\", color = \"#22211d\"),\n",
    "      # panel.grid.minor = element_line(color = \"#ebebe5\", size = 0.2),\n",
    "      panel.grid.major = element_line(color = \"#ebebe5\", size = 0.2),\n",
    "      panel.grid.minor = element_blank(),\n",
    "      plot.background = element_rect(fill = \"#f5f5f2\", color = NA), \n",
    "      panel.background = element_rect(fill = \"#f5f5f2\", color = NA), \n",
    "      legend.background = element_rect(fill = \"#f5f5f2\", color = NA),\n",
    "      panel.border = element_blank(),\n",
    "      ...\n",
    "    )\n",
    "}\n",
    "fortify_map <-function(sql_D, titles, subtitles, cont=FALSE, no_classes=5){\n",
    "  \n",
    "  csa_mlab <- rep(0, nrow(sql_D))\n",
    "  for(i in 1:length(csa_mlab)){\n",
    "    zip_i<-which(csa_pr$ZCTA5CE10==sql_D$postal[i])\n",
    "    if(length(zip_i)!=0){\n",
    "      csa_mlab[i]<-csa_pr@polygons[[zip_i]]@ID\n",
    "    }\n",
    "  }\n",
    "  \n",
    "  map_data_fortified <- fortify(csa_pr)\n",
    "  \n",
    "  if(cont==FALSE){\n",
    "    labels <- c()\n",
    "    quantiles <- quantile(sql_D$num , probs = seq(0, 1, length.out = no_classes + 1))\n",
    "    labels <- c()\n",
    "    for(idx in 1:length(quantiles)){\n",
    "      labels <- c(labels, paste0(round(quantiles[idx], 2), \" - \", round(quantiles[idx + 1], 2)))\n",
    "    }\n",
    "    labels <- labels[1:length(labels)-1]\n",
    "    sql_D$num <- cut(sql_D$num, breaks = quantiles, labels = labels, include.lowest = T)\n",
    "  }\n",
    "  \n",
    "  # now we join the thematic data\n",
    "  #map_data_new <- map_data_fortified %>% left_join(todo_agu)\n",
    "  cols = rep(0, nrow(map_data_fortified))\n",
    "  ids<-names(table(map_data_fortified$id))\n",
    "  \n",
    "  for(i in 1:length(ids)){\n",
    "    these<-which(map_data_fortified$id==ids[i])\n",
    "    col_ind<-which(csa_mlab==ids[i])\n",
    "    \n",
    "    if(length(col_ind>0)){\n",
    "      cols[these]<-rep(as.character(sql_D$num[col_ind]), length(these))\n",
    "    }\n",
    "    \n",
    "  }\n",
    "  cols<-as.factor(cols)\n",
    "  cols<- factor(cols, levels = levels(cols)[order(as.numeric(str_trim(lapply(str_split(levels(cols),\"-\"), function(x)return(x[[1]])))))])\n",
    "\n",
    "  \n",
    "  map_data_new<-data.frame(map_data_fortified, cols)\n",
    "  bg = \"grey92\"\n",
    "  pr_map<-map_data_new%>%ggplot() + \n",
    "    geom_polygon(aes(long, lat, group = group, fill = cols), \n",
    "                 colour = alpha(\"grey\", 1/2), size = 0.7) + \n",
    "    theme(panel.background = element_rect(fill = bg),\n",
    "          legend.position = \"none\")+coord_equal()+theme_map() +\n",
    "    labs(x = NULL, \n",
    "         y = NULL, \n",
    "         title = titles, \n",
    "         subtitle = subtitles)\n",
    "  pr_map+scale_fill_viridis(option = \"magma\",name = \"Median Mbs/s\",discrete = !cont,direction = -1)\n",
    "  \n",
    "}\n",
    "\n",
    "select_first <-function(x){ return(lapply(x[[1]]))}\n",
    "\n",
    "select_ip_net <- function(x){\n",
    "  splits<-str_split(x,\"[.]\")\n",
    "  lans<-lapply(splits, function(y) return(y[1:3]))%>%lapply(function(z) return(str_c(z, collapse=\".\")))%>%unlist\n",
    "  return(lans)\n",
    "}\n",
    "\n",
    "\n",
    "\n",
    "iqr_plot <-function(D, cutoff_date, titles){\n",
    "  res<-D%>%data.frame()%>%group_by(day)%>%\n",
    "    summarise(\"min\"=summary(d_mps)[1],\"1q\"=summary(d_mps)[2], \"med\"=summary(d_mps)[3], \"mea\"=summary(d_mps)[4],\n",
    "              \"3q\"=summary(d_mps)[5], \"max\"=summary(d_mps)[6], \"num\"=n())\n",
    "  res$day<-ymd(res$day)\n",
    "  names(res)[1]=\"dates\"\n",
    "  res1<-res%>%filter(dates>ymd(cutoff_date))\n",
    "  res1<-melt(res1, variable.name = \"keys\", value.name = \"speeds\", id.vars = \"dates\")\n",
    "  res1<-data.frame(\"dates\"=ymd(res1$dates), \"sum_type\"=as.factor(res1$keys), \"speed\"=as.numeric(res1$speeds))\n",
    "  \n",
    "  \n",
    "  res1%>%filter(sum_type%in%levels(res1$sum_type)[c(2,3,5)])%>%ggplot(aes(x=dates, y = speed, col=sum_type))+\n",
    "    geom_line()+scale_color_brewer(name=\"Summary Type\",palette=\"Dark2\",labels=c(\"1st quartile\", \"Median\",\"3rd quartile\"))+theme_scatter()+\n",
    "    labs(x = \"Dates\", y = \"Mbps\",title = titles)\n",
    "}\n",
    "\n",
    "find_beacon<-function(x,y, thresh){\n",
    "  D_here<-data.frame(x,y)\n",
    "  beac_ip<-D_here%>%mutate(\"years\"=year(x))%>%group_by(years, y)%>%summarise(\"num\"=n())%>%\n",
    "    group_by(y)%>%summarise(\"num\"=n())%>%filter(num>thresh)\n",
    "  return(beac_ip)\n",
    "}\n"
   ]
  },
  {
   "cell_type": "markdown",
   "metadata": {},
   "source": [
    "### Get the data from bigquery"
   ]
  },
  {
   "cell_type": "markdown",
   "metadata": {},
   "source": [
    "First, we need to get the M-lab data from Puerto Rico. Right now, the variable `project` contains my Google project name so before running this, I think you'll need to assign your project name to `project`. To get the data for just Puerto Rico, I'm loading a dataset that contains the set of PR zipcodes and stitching that together with a SQL query that asks for the download speed in mbps (named d_mps), the day of each test (named day), and the ip address of the tester (named ip). \n",
    "\n",
    "The last lines save a copy of the returned dataset and chunk the data into monthly data."
   ]
  },
  {
   "cell_type": "code",
   "execution_count": 5,
   "metadata": {},
   "outputs": [
    {
     "name": "stderr",
     "output_type": "stream",
     "text": [
      "Waiting for authentication in browser...\n",
      "Press Esc/Ctrl + C to abort\n",
      "Please point your browser to the following url: \n",
      "https://accounts.google.com/o/oauth2/auth?client_id=465736758727.apps.googleusercontent.com&scope=https%3A%2F%2Fwww.googleapis.com%2Fauth%2Fbigquery%20https%3A%2F%2Fwww.googleapis.com%2Fauth%2Fcloud-platform&redirect_uri=http%3A%2F%2Flocalhost%3A1410%2F&response_type=code&state=yOvaoXY1Hw\n",
      "Authentication complete.\n",
      "145.3 gigabytes processed\n"
     ]
    }
   ],
   "source": [
    "project <- \"temporal-clover-206220\" ###this is the name of my project, you may have to point this to your own \n",
    "                                    ###project name\n",
    "data(zipcode)\n",
    "pr_zip<-zipcode[which(zipcode$state==\"PR\"),1]\n",
    "sql_pr_zip<-toString(sprintf(\"'%s'\", unlist(pr_zip))) \n",
    "sql_fmt <- \"#standardSQL\n",
    "SELECT\n",
    "connection_spec.client_geolocation.postal_code AS postal, partition_date AS day, 8 *\n",
    "  (web100_log_entry.snap.HCThruOctetsAcked /\n",
    "     (web100_log_entry.snap.SndLimTimeRwin +\n",
    "        web100_log_entry.snap.SndLimTimeCwnd +\n",
    "        web100_log_entry.snap.SndLimTimeSnd)) AS d_mps, connection_spec.client_ip AS ip\n",
    "FROM `measurement-lab.release.ndt_all`\n",
    "WHERE connection_spec.client_geolocation.postal_code IN (%s);\"\n",
    "sql <- sprintf(sql_fmt, sql_pr_zip)\n",
    "todo_copies <- query_exec(sql, project = project, use_legacy_sql=FALSE, max_pages = Inf)\n",
    "todo_copies_org <- todo_copies\n",
    "todo_copies$day<-str_sub(todo_copies$day,1,7)\n",
    "todo_copies$day<-parse_date_time(todo_copies$day, \"y-m\")"
   ]
  },
  {
   "cell_type": "markdown",
   "metadata": {},
   "source": [
    "### Something strange happens to the median"
   ]
  },
  {
   "cell_type": "markdown",
   "metadata": {},
   "source": [
    "Here is where the \"beacons\" are selected. I'm defining beacons as any ip address that holds its first 9 digit locations constant and runs an NDT in at least three separate years (so abc.def.ghi.jkl and abc.def.ghi.mno are the same ip for me). 3 is an arbitrary threshold but the results are the same if that threshold is varied between two and nine years (nine being the largest value possible). \n",
    "\n",
    "From what I've gleaned from conversations, this is less a beacon in the sense of the Matt Mathis' beacon paper, and more something like a \"beacon subnetwork.\" This pulls out subnetworks that have made multiple queries across time. "
   ]
  },
  {
   "cell_type": "code",
   "execution_count": 21,
   "metadata": {},
   "outputs": [
    {
     "data": {},
     "metadata": {},
     "output_type": "display_data"
    },
    {
     "data": {
      "image/png": "[encoded data removed]",
      "text/plain": [
       "plot without title"
      ]
     },
     "metadata": {},
     "output_type": "display_data"
    }
   ],
   "source": [
    "options(warn=-1)\n",
    "first_cut=\"2009-09-01\"\n",
    "cutoff_date=\"2018-05-01\"\n",
    "net_nums<-todo_copies%>%data.frame%>%mutate(\"net_ip\"=select_ip_net(ip))\n",
    "keep_ip<-find_beacon(net_nums$day, net_nums$net_ip, 3) ###5 is the threshold here. \n",
    "keep_ip<-as.character(keep_ip$y)\n",
    "beac_D<-todo_copies%>%data.frame%>%mutate(\"net_ip\"=select_ip_net(ip))%>%filter(net_ip%in%keep_ip)\n",
    "beac_D$day<-ymd(beac_D$day)\n",
    "iqr_plot(beac_D, first_cut , \"Beacon download speeds per month\")+xlim(ymd(\"2009-01-01\"),ymd(cutoff_date))\n",
    "options(warn=0)"
   ]
  },
  {
   "cell_type": "markdown",
   "metadata": {},
   "source": [
    "This chart is potentially interesting in and of itself. It tells the story of an internet that from 2009 until mid 2013 gets better for the whole country. In late 2013, high internet speeds continue to improve, while lower internet speeds plateau and start to fall off. In 2014, internet speeds improve dramatically for everyone, though much more so for those with good connections. Then things get weird. The month-to-month variance increases until 2017, when the variance goes to 0. \n",
    "\n",
    "It's the last change that's especially interesting, and that potentially explains a lot of the weirdness post 2014. We can zoom in around 2017 to see if there's any other useful information there."
   ]
  },
  {
   "cell_type": "code",
   "execution_count": 22,
   "metadata": {},
   "outputs": [
    {
     "data": {},
     "metadata": {},
     "output_type": "display_data"
    },
    {
     "data": {
      "image/png": "[encoded data removed]",
      "text/plain": [
       "plot without title"
      ]
     },
     "metadata": {},
     "output_type": "display_data"
    }
   ],
   "source": [
    "options(warn=-1)\n",
    "iqr_plot(beac_D, first_cut , \"Beacon download speeds per month\")+xlim(ymd(\"2016-01-01\"),ymd(cutoff_date))+\n",
    "  geom_segment(arrow= arrow(type=\"closed\", ends=\"first\",length=unit(.2, \"cm\")),\n",
    "               aes(x=ymd(\"2017-06-01\"), xend=ymd(\"2017-06-01\"), y=30, yend=35), size=1.5, color = \"black\")+\n",
    "  annotate(\"text\",label=\"2017-06-01\",x=ymd(\"2017-08-01\"), y = 37)\n",
    "options(warn=0)"
   ]
  },
  {
   "cell_type": "markdown",
   "metadata": {},
   "source": [
    "Zooming in, though there are month-to-month changes in internet speed of 25-50 Mbps, make this time period more legible, and emphasizes the date (June 2017) when the quantiles collapse. This means either  all the beacons have extremely similar test results or the number of beacons has basically gone to zero. To check this, I plotted the number of beacons testing per month."
   ]
  },
  {
   "cell_type": "markdown",
   "metadata": {},
   "source": [
    "### Happens because the number of beacons falls to basically 0"
   ]
  },
  {
   "cell_type": "code",
   "execution_count": 13,
   "metadata": {},
   "outputs": [
    {
     "data": {},
     "metadata": {},
     "output_type": "display_data"
    },
    {
     "data": {
      "image/png": "[encoded data removed]",
      "text/plain": [
       "plot without title"
      ]
     },
     "metadata": {},
     "output_type": "display_data"
    }
   ],
   "source": [
    "options(warn=-1)\n",
    "beac_D%>%group_by(day)%>%summarise(\"num\"=n())%>%ggplot(aes(x=day, y=num))+geom_line()+theme_scatter()+\n",
    "  labs(x=\"Date\", y=\"Number of beacons per month\", title=\"Number of beacons testing per month\")+\n",
    "  geom_segment(arrow= arrow(type=\"closed\", ends=\"first\",length=unit(.2, \"cm\")),\n",
    "               aes(x=ymd(\"2017-06-01\"), xend=ymd(\"2017-06-01\"), y=30, yend=40), size=1.5)+\n",
    "  annotate(\"text\",label=\"2017-06-01\",x=ymd(\"2017-06-01\"), y = 45)\n",
    "options(warn=0)"
   ]
  },
  {
   "cell_type": "markdown",
   "metadata": {},
   "source": [
    "This \"explains\" the previous graphs. The quantiles collapse in June 2017 because the number of beacons testing is in the low single digits starting in June. This also \"explains\" the increasing variance in the quantiles of the first plot. With fewer beacons, the estimates are going to be less smooth. \n",
    "\n",
    "It doesn't really explain what happened though. I still have two sets of questions. \n",
    "\n",
    "First, where did the \"beacons\" go? Why aren't they testing? What does that say about the quality of the internet in Puerto Rico? The way I'm measuring beacons definitely plays a role here (A network that joined one year ago can't be beacon when I require them to appear in >1 distinct years), but I don't think that makes this question uninteresting. Even if the old beacons were replaced by new networks that will be considered beacons under this definition once they've been around long enough, that turnover might be interesting. Did that turnover interact with hurricane damage in any way? (i.e was PR better prepared to handle weather damage because of the turnover, or did the change compound an already bad situation). I was wondering if anyone had an explanation or knew what might be happening with the beacons. \n",
    "\n",
    "I'm also curious about the lag time between when the beacons decreased and when the variance increased. The quantiles start getting wonky in 2014, but the number of beacons had been low for a year or two at that point. I don't know whether there's a sample size rule of thumb for good estimates of the median in the field, but I'm curious whether people think the increasing variability can be totally attributed to sampling issues or whether it represents something about the increasing inconsistency of internet speed on the island.\n"
   ]
  }
 ],
 "metadata": {
  "kernelspec": {
   "display_name": "R",
   "language": "R",
   "name": "ir"
  },
  "language_info": {
   "codemirror_mode": "r",
   "file_extension": ".r",
   "mimetype": "text/x-r-source",
   "name": "R",
   "pygments_lexer": "r",
   "version": "3.3.3"
  }
 },
 "nbformat": 4,
 "nbformat_minor": 2
}
